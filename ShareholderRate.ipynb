{
 "cells": [
  {
   "cell_type": "code",
   "execution_count": 2,
   "metadata": {},
   "outputs": [
    {
     "name": "stdout",
     "output_type": "stream",
     "text": [
      "Initialize config success.\n",
      "Query data...\n",
      "Query data - query...\n",
      "NOTE: price adjust method is [post adjust]\n",
      "当前请求daily...\n",
      "{'adjust_mode': None, 'fields': 'open_adj,low_adj,trade_date,open,close,high,vwap,trade_status,symbol,low,vwap_adj,high_adj,close_adj'}\n",
      "下载进度946/981.\n",
      "当前请求daily...\n",
      "{'adjust_mode': 'post', 'fields': 'open,high,vwap,close,low,symbol,trade_date'}\n",
      "下载进度946/981.\n",
      "WARNING: some data is unavailable: \n",
      "    At fields 000748.SZ, 600005.SH\n",
      "Query data - daily fields prepared.\n",
      "Query instrument info...\n",
      "Query adj_factor...\n",
      "Data has been successfully prepared.\n"
     ]
    }
   ],
   "source": [
    "from jaqs_fxdayu.data import DataView\n",
    "from jaqs_fxdayu.data.dataservice import LocalDataService\n",
    "import numpy as np\n",
    "import pandas as pd\n",
    "import warnings\n",
    "from jaqs_fxdayu.util import dp\n",
    "start = 20160101\n",
    "end = 20180101\n",
    "warnings.filterwarnings(\"ignore\")\n",
    "dataview_folder = './data'\n",
    "dv=DataView()\n",
    "ds = LocalDataService(fp=dataview_folder)\n",
    "factor_list=['volume']\n",
    "ZZ800_id = ds.query_index_member(\"000906.SH\", start, end)\n",
    "stock_symbol = list(set(ZZ800_id))\n",
    "check_factor=','.join(factor_list)\n",
    "dv_props={'start_date':start,'end_date':end,'symbol':','.join(stock_symbol),'field':check_factor,'freq':1,'prepare_fields':True\n",
    "}\n",
    "dv.init_from_config(dv_props,data_api=ds)\n",
    "dv.prepare_data()"
   ]
  },
  {
   "cell_type": "code",
   "execution_count": 4,
   "metadata": {},
   "outputs": [
    {
     "name": "stdout",
     "output_type": "stream",
     "text": [
      "Variable [net_cash_flows_oper_act] is not recognized (it may be wrong),try to fetch from the server...\n",
      "Query data - query...\n",
      "WARNING: some data is unavailable: \n",
      "    At fields 000748.SZ, 600005.SH\n",
      "Query data - quarterly fields prepared.\n",
      "Query data - query...\n",
      "WARNING: some data is unavailable: \n",
      "    At fields 000748.SZ, 600005.SH\n",
      "Query data - quarterly fields prepared.\n",
      "Variable [capital_stk] is not recognized (it may be wrong),try to fetch from the server...\n",
      "Query data - query...\n",
      "WARNING: some data is unavailable: \n",
      "    At fields 000748.SZ, 600005.SH\n",
      "Query data - quarterly fields prepared.\n"
     ]
    }
   ],
   "source": [
    "ShareholderRate=dv.add_formula('ShareholderRate',\"net_cash_flows_oper_act/capital_stk\",is_quarterly=False)"
   ]
  },
  {
   "cell_type": "code",
   "execution_count": null,
   "metadata": {
    "collapsed": true
   },
   "outputs": [],
   "source": []
  }
 ],
 "metadata": {
  "kernelspec": {
   "display_name": "Python 3",
   "language": "python",
   "name": "python3"
  },
  "language_info": {
   "codemirror_mode": {
    "name": "ipython",
    "version": 3
   },
   "file_extension": ".py",
   "mimetype": "text/x-python",
   "name": "python",
   "nbconvert_exporter": "python",
   "pygments_lexer": "ipython3",
   "version": "3.6.1"
  }
 },
 "nbformat": 4,
 "nbformat_minor": 2
}
